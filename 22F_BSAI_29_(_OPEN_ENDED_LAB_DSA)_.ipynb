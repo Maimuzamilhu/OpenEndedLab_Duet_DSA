{
  "nbformat": 4,
  "nbformat_minor": 0,
  "metadata": {
    "colab": {
      "provenance": []
    },
    "kernelspec": {
      "name": "python3",
      "display_name": "Python 3"
    },
    "language_info": {
      "name": "python"
    }
  },
  "cells": [
    {
      "cell_type": "markdown",
      "source": [
        "# Open Ended Lab ( DSA )"
      ],
      "metadata": {
        "id": "Z5d13dc3ZlJ2"
      }
    },
    {
      "cell_type": "markdown",
      "source": [
        "## Roll Number : 22F-BSAI-29"
      ],
      "metadata": {
        "id": "pnBTqnPjZq-e"
      }
    },
    {
      "cell_type": "markdown",
      "source": [
        "#### Q) Delete N nodes after M nodes of a link list"
      ],
      "metadata": {
        "id": "8ABnHGluagTA"
      }
    },
    {
      "cell_type": "code",
      "execution_count": 11,
      "metadata": {
        "colab": {
          "base_uri": "https://localhost:8080/"
        },
        "id": "xI7ZPSpKZZzr",
        "outputId": "4b834c45-9e50-4fa3-e53e-b24ed9abc7cb"
      },
      "outputs": [
        {
          "output_type": "stream",
          "name": "stdout",
          "text": [
            "add number in linklist  : 9 1  3 5 9 4 10 1 \n",
            "\n",
            "Original Linked List:\n",
            "9\n",
            "1\n",
            "3\n",
            "5\n",
            "9\n",
            "4\n",
            "10\n",
            "1\n",
            "number of nodes to skip 2\n",
            "nodes to delete1\n",
            "modified linked list:\n",
            "9\n",
            "1\n",
            "5\n",
            "9\n",
            "10\n",
            "1\n"
          ]
        }
      ],
      "source": [
        "class Node:\n",
        "  def __init__(self , data):\n",
        "    self.data = data\n",
        "    self.next = None\n",
        "\n",
        "# =============================singly list created\n",
        "class LinkedList:\n",
        "  def __init__(self):\n",
        "    self.head = None\n",
        "\n",
        "# ========================add data to end of list========================\n",
        "  def append(self, data):\n",
        "        new_node = Node(data)\n",
        "        if not self.head:\n",
        "            self.head = new_node\n",
        "        else:\n",
        "            current = self.head\n",
        "            while current.next:\n",
        "                current = current.next\n",
        "            current.next = new_node\n",
        "\n",
        "\n",
        " #======================display the link list================================\n",
        "  def display_List(self):\n",
        "        current = self.head\n",
        "        if not current:\n",
        "            print(\"list is empty.\")\n",
        "            return\n",
        "        while current:\n",
        "            print(current.data,)\n",
        "            current = current.next\n",
        "        return -1\n",
        "\n",
        "  # ==============Delete n after m ===========================\n",
        "  def deleteNandM(self, m, n):\n",
        "        if m < 0 or n < 0:\n",
        "            print(\"please dont add -ve number Thanks!\")\n",
        "            return -1\n",
        "        current = self.head\n",
        "        # skip m nodes\n",
        "        while current:\n",
        "            for i in range(m - 1): #\n",
        "                if not current:\n",
        "                    return -1\n",
        "                current = current.next\n",
        "\n",
        "            if not current:\n",
        "                return -1\n",
        "\n",
        "             ## delete n nodes\n",
        "            temp = current.next # extra var\n",
        "            for j in range(n):\n",
        "                if not temp:\n",
        "                    break\n",
        "                temp = temp.next # storing in tmp\n",
        "\n",
        "            current.next = temp\n",
        "            current = temp\n",
        "\n",
        "\n",
        "\n",
        "\n",
        "\n",
        "\n",
        "\n",
        "# =======================Main function for talking input from user=====================================\n",
        "def main():\n",
        "    linked_list = LinkedList()\n",
        "\n",
        "    # input numbers===================\n",
        "    elements = input(\"add number in linklist  : \").split()\n",
        "    for element in elements:\n",
        "        linked_list.append(int(element))\n",
        "\n",
        "    print(\"original Linked List:\")\n",
        "    linked_list.display_List()\n",
        "\n",
        "\n",
        "    # Input m and n values =========================\n",
        "    m = int(input(\"number of nodes to skip \"))\n",
        "    n = int(input(\"nodes to delete\"))\n",
        "\n",
        "    # func calling\n",
        "    linked_list.deleteNandM(m, n)\n",
        "\n",
        "    print(\"modified linked list:\")\n",
        "    linked_list.display_List()\n",
        "\n",
        "\n",
        "if __name__ == \"__main__\":\n",
        "    main()"
      ]
    },
    {
      "cell_type": "code",
      "source": [],
      "metadata": {
        "id": "NqhM3ppTfKCm"
      },
      "execution_count": 10,
      "outputs": []
    }
  ]
}